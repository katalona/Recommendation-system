{
 "cells": [
  {
   "cell_type": "markdown",
   "metadata": {
    "id": "QovT45u4cpGF"
   },
   "source": [
    "# Recommendation System"
   ]
  },
  {
   "cell_type": "markdown",
   "metadata": {},
   "source": [
    "## Предобработка данных"
   ]
  },
  {
   "cell_type": "markdown",
   "metadata": {
    "id": "G7r64Qn1_bN1"
   },
   "source": [
    "Объединим общие данные о фильмах [tmdb_5000_movies](Recommendation-system\\datasets\\tmdb_5000_movies.csv) и каст фильмов\n",
    "[tmdb_5000_credits](Recommendation-system\\datasets\\tmdb_5000_credits.csv). Оставим в датасете только фильмы, которые вышли в \"релиз\"."
   ]
  },
  {
   "cell_type": "code",
   "execution_count": 1,
   "metadata": {
    "executionInfo": {
     "elapsed": 3,
     "status": "ok",
     "timestamp": 1696545505857,
     "user": {
      "displayName": "Alena Poletukhina",
      "userId": "13131598582564242050"
     },
     "user_tz": -180
    },
    "id": "uygaer50_bN2"
   },
   "outputs": [],
   "source": [
    "import pandas as pd"
   ]
  },
  {
   "cell_type": "code",
   "execution_count": 2,
   "metadata": {
    "executionInfo": {
     "elapsed": 1619,
     "status": "ok",
     "timestamp": 1696545611955,
     "user": {
      "displayName": "Alena Poletukhina",
      "userId": "13131598582564242050"
     },
     "user_tz": -180
    },
    "id": "UZER9hTs_bN3"
   },
   "outputs": [],
   "source": [
    "movies = pd.read_csv('../datasets/tmdb_5000_movies.csv')\n",
    "credits = pd.read_csv('../datasets/tmdb_5000_credits.csv')"
   ]
  },
  {
   "cell_type": "code",
   "execution_count": 3,
   "metadata": {
    "colab": {
     "base_uri": "https://localhost:8080/"
    },
    "executionInfo": {
     "elapsed": 273,
     "status": "ok",
     "timestamp": 1696545615620,
     "user": {
      "displayName": "Alena Poletukhina",
      "userId": "13131598582564242050"
     },
     "user_tz": -180
    },
    "id": "OXMpNEJn_bN3",
    "outputId": "a9d15206-48b9-4ea6-b625-b3f01c8e8e61"
   },
   "outputs": [],
   "source": [
    "new_movies = pd.merge(movies, credits, how='left', left_on='id', right_on='movie_id')\n",
    "new_movies = new_movies[new_movies.status == 'Released'].reset_index()"
   ]
  },
  {
   "cell_type": "code",
   "execution_count": 4,
   "metadata": {
    "colab": {
     "base_uri": "https://localhost:8080/",
     "height": 112
    },
    "executionInfo": {
     "elapsed": 356,
     "status": "ok",
     "timestamp": 1696545618303,
     "user": {
      "displayName": "Alena Poletukhina",
      "userId": "13131598582564242050"
     },
     "user_tz": -180
    },
    "id": "WbRsY1-G_bN4",
    "outputId": "d538d20f-a7f4-4797-bad0-5d442c140d2d"
   },
   "outputs": [
    {
     "data": {
      "text/html": [
       "<div>\n",
       "<style scoped>\n",
       "    .dataframe tbody tr th:only-of-type {\n",
       "        vertical-align: middle;\n",
       "    }\n",
       "\n",
       "    .dataframe tbody tr th {\n",
       "        vertical-align: top;\n",
       "    }\n",
       "\n",
       "    .dataframe thead th {\n",
       "        text-align: right;\n",
       "    }\n",
       "</style>\n",
       "<table border=\"1\" class=\"dataframe\">\n",
       "  <thead>\n",
       "    <tr style=\"text-align: right;\">\n",
       "      <th></th>\n",
       "      <th>movie_id</th>\n",
       "      <th>title</th>\n",
       "      <th>cast</th>\n",
       "      <th>crew</th>\n",
       "    </tr>\n",
       "  </thead>\n",
       "  <tbody>\n",
       "    <tr>\n",
       "      <th>0</th>\n",
       "      <td>19995</td>\n",
       "      <td>Avatar</td>\n",
       "      <td>[{\"cast_id\": 242, \"character\": \"Jake Sully\", \"...</td>\n",
       "      <td>[{\"credit_id\": \"52fe48009251416c750aca23\", \"de...</td>\n",
       "    </tr>\n",
       "    <tr>\n",
       "      <th>1</th>\n",
       "      <td>285</td>\n",
       "      <td>Pirates of the Caribbean: At World's End</td>\n",
       "      <td>[{\"cast_id\": 4, \"character\": \"Captain Jack Spa...</td>\n",
       "      <td>[{\"credit_id\": \"52fe4232c3a36847f800b579\", \"de...</td>\n",
       "    </tr>\n",
       "  </tbody>\n",
       "</table>\n",
       "</div>"
      ],
      "text/plain": [
       "   movie_id                                     title  \\\n",
       "0     19995                                    Avatar   \n",
       "1       285  Pirates of the Caribbean: At World's End   \n",
       "\n",
       "                                                cast  \\\n",
       "0  [{\"cast_id\": 242, \"character\": \"Jake Sully\", \"...   \n",
       "1  [{\"cast_id\": 4, \"character\": \"Captain Jack Spa...   \n",
       "\n",
       "                                                crew  \n",
       "0  [{\"credit_id\": \"52fe48009251416c750aca23\", \"de...  \n",
       "1  [{\"credit_id\": \"52fe4232c3a36847f800b579\", \"de...  "
      ]
     },
     "execution_count": 4,
     "metadata": {},
     "output_type": "execute_result"
    }
   ],
   "source": [
    "credits.head(2)"
   ]
  },
  {
   "cell_type": "markdown",
   "metadata": {
    "id": "D9oXUQOF_bN5"
   },
   "source": [
    "## Алгоритмы для построения рекомендательных систем"
   ]
  },
  {
   "cell_type": "markdown",
   "metadata": {},
   "source": [
    "### На основе оценок пользователей"
   ]
  },
  {
   "cell_type": "markdown",
   "metadata": {
    "id": "QHMnvwA-_bN5"
   },
   "source": [
    "Используем текущую рейтинговую систему IMDB (weighted rating (WR)):\n",
    "$$WR = \\frac{v}{v + m} ⋅ R + \\frac{m}{v + m} ⋅ C$$\n",
    "$v$ - количество голосов \\\n",
    "$m$ - количество голосов для включения в финальную таблицу \\\n",
    "$R$ - средняя оценка \\\n",
    "$C$ - средняя оценка всех фильмов\n",
    "\n",
    "Выведем ТОП-5 фильмов"
   ]
  },
  {
   "cell_type": "code",
   "execution_count": 5,
   "metadata": {
    "executionInfo": {
     "elapsed": 252,
     "status": "ok",
     "timestamp": 1696545626837,
     "user": {
      "displayName": "Alena Poletukhina",
      "userId": "13131598582564242050"
     },
     "user_tz": -180
    },
    "id": "Q7rbZ8C0_bN5"
   },
   "outputs": [],
   "source": [
    "def weighted_rating(df):\n",
    "    v =  df.vote_count\n",
    "    m = df.vote_count.quantile(.95)\n",
    "    r = df.vote_average\n",
    "    c = df.vote_average.mean()\n",
    "    df['simple_score'] = v / (v + m) * r + m / (v + m) * c\n",
    "    return df"
   ]
  },
  {
   "cell_type": "code",
   "execution_count": 6,
   "metadata": {
    "colab": {
     "base_uri": "https://localhost:8080/",
     "height": 206
    },
    "executionInfo": {
     "elapsed": 257,
     "status": "ok",
     "timestamp": 1696545628238,
     "user": {
      "displayName": "Alena Poletukhina",
      "userId": "13131598582564242050"
     },
     "user_tz": -180
    },
    "id": "HiMaAhFx_bN5",
    "outputId": "ad6ee78e-00e9-4ef4-9a97-b38096e7d1d5"
   },
   "outputs": [
    {
     "data": {
      "text/html": [
       "<div>\n",
       "<style scoped>\n",
       "    .dataframe tbody tr th:only-of-type {\n",
       "        vertical-align: middle;\n",
       "    }\n",
       "\n",
       "    .dataframe tbody tr th {\n",
       "        vertical-align: top;\n",
       "    }\n",
       "\n",
       "    .dataframe thead th {\n",
       "        text-align: right;\n",
       "    }\n",
       "</style>\n",
       "<table border=\"1\" class=\"dataframe\">\n",
       "  <thead>\n",
       "    <tr style=\"text-align: right;\">\n",
       "      <th></th>\n",
       "      <th>original_title</th>\n",
       "      <th>simple_score</th>\n",
       "    </tr>\n",
       "  </thead>\n",
       "  <tbody>\n",
       "    <tr>\n",
       "      <th>1881</th>\n",
       "      <td>The Shawshank Redemption</td>\n",
       "      <td>7.849025</td>\n",
       "    </tr>\n",
       "    <tr>\n",
       "      <th>65</th>\n",
       "      <td>The Dark Knight</td>\n",
       "      <td>7.773990</td>\n",
       "    </tr>\n",
       "    <tr>\n",
       "      <th>662</th>\n",
       "      <td>Fight Club</td>\n",
       "      <td>7.761012</td>\n",
       "    </tr>\n",
       "    <tr>\n",
       "      <th>96</th>\n",
       "      <td>Inception</td>\n",
       "      <td>7.736496</td>\n",
       "    </tr>\n",
       "    <tr>\n",
       "      <th>3231</th>\n",
       "      <td>Pulp Fiction</td>\n",
       "      <td>7.714726</td>\n",
       "    </tr>\n",
       "  </tbody>\n",
       "</table>\n",
       "</div>"
      ],
      "text/plain": [
       "                original_title  simple_score\n",
       "1881  The Shawshank Redemption      7.849025\n",
       "65             The Dark Knight      7.773990\n",
       "662                 Fight Club      7.761012\n",
       "96                   Inception      7.736496\n",
       "3231              Pulp Fiction      7.714726"
      ]
     },
     "execution_count": 6,
     "metadata": {},
     "output_type": "execute_result"
    }
   ],
   "source": [
    "new_movies = weighted_rating(new_movies)\n",
    "new_movies.sort_values(by='simple_score', ascending=False)[['original_title', 'simple_score']][:5]"
   ]
  },
  {
   "cell_type": "markdown",
   "metadata": {
    "id": "7D68scVP_bN6"
   },
   "source": [
    "### На основе содержания"
   ]
  },
  {
   "cell_type": "markdown",
   "metadata": {
    "id": "eVyfwyjp_bN6"
   },
   "source": [
    "Проведем предобработку текста:\n",
    "* Заменим NaN в описании фильма на пустой символ `''`\n",
    "* Удалим все английские стоп слова\n",
    "* Расcчитаем матрица Tf-Idf\n",
    "* Рассчитаем матрицу косинусного расстояния"
   ]
  },
  {
   "cell_type": "code",
   "execution_count": 7,
   "metadata": {
    "executionInfo": {
     "elapsed": 1180,
     "status": "ok",
     "timestamp": 1696545635746,
     "user": {
      "displayName": "Alena Poletukhina",
      "userId": "13131598582564242050"
     },
     "user_tz": -180
    },
    "id": "OP2GRsBZ_bN6"
   },
   "outputs": [],
   "source": [
    "from sklearn.feature_extraction.text import TfidfVectorizer"
   ]
  },
  {
   "cell_type": "code",
   "execution_count": 8,
   "metadata": {
    "colab": {
     "base_uri": "https://localhost:8080/"
    },
    "executionInfo": {
     "elapsed": 696,
     "status": "ok",
     "timestamp": 1696545637920,
     "user": {
      "displayName": "Alena Poletukhina",
      "userId": "13131598582564242050"
     },
     "user_tz": -180
    },
    "id": "al98Osyh_bN6",
    "outputId": "c58cd59b-6855-48de-da99-357bc98190b1"
   },
   "outputs": [],
   "source": [
    "new_movies['overview'] = new_movies['overview'].fillna('')\n",
    "tfidf = TfidfVectorizer(stop_words='english')\n",
    "movies_tfidf = tfidf.fit_transform(new_movies['overview'])\n"
   ]
  },
  {
   "cell_type": "code",
   "execution_count": 9,
   "metadata": {
    "colab": {
     "base_uri": "https://localhost:8080/"
    },
    "executionInfo": {
     "elapsed": 674,
     "status": "ok",
     "timestamp": 1696545642041,
     "user": {
      "displayName": "Alena Poletukhina",
      "userId": "13131598582564242050"
     },
     "user_tz": -180
    },
    "id": "o_qvhzKH_bN6",
    "outputId": "b0326893-bc3a-43db-b1bf-e3041c6869ca"
   },
   "outputs": [],
   "source": [
    "from sklearn.metrics.pairwise import linear_kernel\n",
    "cosine_sim = linear_kernel(movies_tfidf)"
   ]
  },
  {
   "cell_type": "markdown",
   "metadata": {
    "id": "UCxqwQoQ_bN7"
   },
   "source": [
    "Напишем функцию, рекомендующую K фильмов, чьи описания похожи на выбранный фильм. \n",
    "Проверим ее, выведя топ-5 фильмов для фильма `Saving Private Ryan`"
   ]
  },
  {
   "cell_type": "code",
   "execution_count": 10,
   "metadata": {
    "executionInfo": {
     "elapsed": 258,
     "status": "ok",
     "timestamp": 1696545657245,
     "user": {
      "displayName": "Alena Poletukhina",
      "userId": "13131598582564242050"
     },
     "user_tz": -180
    },
    "id": "FOTy7O8B_bN7"
   },
   "outputs": [],
   "source": [
    "def get_recommendations(movies_dataset, title, cosine_sim, top_k):\n",
    "    \"\"\"\n",
    "    1. Находим индекс выбранного фильма\n",
    "    2. Находим в матрице расстояний столбец для фильма\n",
    "    3. Сортируем этот столбец по убыванию(т.к. чем ближе значение косинусного сходства к 1,\n",
    "    тем векторы более похожи друг на друга(т.е. описания фильмов более схожи между собой)),\n",
    "    выбираем нужное нам количество записей и находим их индексы\n",
    "    4. По найденным индексам возвращаем список фильмов\n",
    "    \"\"\"\n",
    "    movie_index = movies_dataset.index[movies_dataset['original_title'] == title]\n",
    "    movie_cos_sim = pd.DataFrame(cosine_sim[:, movie_index])\n",
    "    movie_cos_sim.columns = ['cosine_sim']\n",
    "    new_movies['cosine_sim'] = movie_cos_sim\n",
    "    new_movies.sort_values(['cosine_sim'], ascending=False)[['original_title', 'cosine_sim']]\n",
    "    movie_sim_index = movie_cos_sim.sort_values(by='cosine_sim', ascending=False).head(top_k+1).tail(top_k).index\n",
    "    return movies_dataset.iloc[movie_sim_index]['original_title']"
   ]
  },
  {
   "cell_type": "code",
   "execution_count": 11,
   "metadata": {
    "colab": {
     "base_uri": "https://localhost:8080/"
    },
    "executionInfo": {
     "elapsed": 265,
     "status": "ok",
     "timestamp": 1696545659271,
     "user": {
      "displayName": "Alena Poletukhina",
      "userId": "13131598582564242050"
     },
     "user_tz": -180
    },
    "id": "CCzBH_MF_bN7",
    "outputId": "be4ce2da-e307-4d56-f985-e46a96b7b5d1"
   },
   "outputs": [
    {
     "data": {
      "text/plain": [
       "787        The Great Raid\n",
       "586     The Monuments Men\n",
       "290     The Expendables 2\n",
       "4167            Abandoned\n",
       "3515            The Train\n",
       "Name: original_title, dtype: object"
      ]
     },
     "execution_count": 11,
     "metadata": {},
     "output_type": "execute_result"
    }
   ],
   "source": [
    "get_recommendations(movies_dataset=new_movies, title='Saving Private Ryan', cosine_sim=cosine_sim, top_k=5)"
   ]
  },
  {
   "cell_type": "markdown",
   "metadata": {
    "id": "IhUPBNhu_bN7"
   },
   "source": [
    "### На основе сходства между пользователями"
   ]
  },
  {
   "cell_type": "markdown",
   "metadata": {
    "id": "p06aJ4os_bN7"
   },
   "source": [
    "Для реализации коллаборативной фильтрации потребуются оценки пользователей [ratings](../datasets/ratings.csv).\n",
    "\n",
    "Используем библиотеку `surprise` для обучения модели оценки рейтинга фильма [SVD](https://surprise.readthedocs.io/en/stable/matrix_factorization.html#surprise.prediction_algorithms.matrix_factorization.SVD)."
   ]
  },
  {
   "cell_type": "code",
   "execution_count": 12,
   "metadata": {
    "colab": {
     "base_uri": "https://localhost:8080/",
     "height": 143
    },
    "executionInfo": {
     "elapsed": 287,
     "status": "ok",
     "timestamp": 1696546060716,
     "user": {
      "displayName": "Alena Poletukhina",
      "userId": "13131598582564242050"
     },
     "user_tz": -180
    },
    "id": "lI0qSI1t_bN7",
    "outputId": "bc5cbd13-1970-4fc1-ecc8-9291ba4c9295"
   },
   "outputs": [
    {
     "data": {
      "text/html": [
       "<div>\n",
       "<style scoped>\n",
       "    .dataframe tbody tr th:only-of-type {\n",
       "        vertical-align: middle;\n",
       "    }\n",
       "\n",
       "    .dataframe tbody tr th {\n",
       "        vertical-align: top;\n",
       "    }\n",
       "\n",
       "    .dataframe thead th {\n",
       "        text-align: right;\n",
       "    }\n",
       "</style>\n",
       "<table border=\"1\" class=\"dataframe\">\n",
       "  <thead>\n",
       "    <tr style=\"text-align: right;\">\n",
       "      <th></th>\n",
       "      <th>userId</th>\n",
       "      <th>movieId</th>\n",
       "      <th>rating</th>\n",
       "      <th>timestamp</th>\n",
       "    </tr>\n",
       "  </thead>\n",
       "  <tbody>\n",
       "    <tr>\n",
       "      <th>0</th>\n",
       "      <td>1</td>\n",
       "      <td>31</td>\n",
       "      <td>2.5</td>\n",
       "      <td>1260759144</td>\n",
       "    </tr>\n",
       "    <tr>\n",
       "      <th>1</th>\n",
       "      <td>1</td>\n",
       "      <td>1029</td>\n",
       "      <td>3.0</td>\n",
       "      <td>1260759179</td>\n",
       "    </tr>\n",
       "    <tr>\n",
       "      <th>2</th>\n",
       "      <td>1</td>\n",
       "      <td>1061</td>\n",
       "      <td>3.0</td>\n",
       "      <td>1260759182</td>\n",
       "    </tr>\n",
       "  </tbody>\n",
       "</table>\n",
       "</div>"
      ],
      "text/plain": [
       "   userId  movieId  rating   timestamp\n",
       "0       1       31     2.5  1260759144\n",
       "1       1     1029     3.0  1260759179\n",
       "2       1     1061     3.0  1260759182"
      ]
     },
     "execution_count": 12,
     "metadata": {},
     "output_type": "execute_result"
    }
   ],
   "source": [
    "ratings = pd.read_csv('../datasets/ratings.csv')\n",
    "ratings.head(3)"
   ]
  },
  {
   "cell_type": "code",
   "execution_count": 13,
   "metadata": {
    "colab": {
     "base_uri": "https://localhost:8080/"
    },
    "executionInfo": {
     "elapsed": 11160,
     "status": "ok",
     "timestamp": 1696546941874,
     "user": {
      "displayName": "Alena Poletukhina",
      "userId": "13131598582564242050"
     },
     "user_tz": -180
    },
    "id": "oU2IYtx-_bN7",
    "outputId": "c30a786f-f79a-4778-8bb9-b6596d47ffcb"
   },
   "outputs": [
    {
     "name": "stdout",
     "output_type": "stream",
     "text": [
      "Evaluating RMSE, MAE of algorithm SVD on 5 split(s).\n",
      "\n",
      "                  Fold 1  Fold 2  Fold 3  Fold 4  Fold 5  Mean    Std     \n",
      "RMSE (testset)    0.8928  0.8919  0.9083  0.8962  0.8919  0.8962  0.0062  \n",
      "MAE (testset)     0.6878  0.6847  0.6966  0.6891  0.6890  0.6894  0.0039  \n",
      "Fit time          0.73    0.75    0.77    0.72    0.73    0.74    0.02    \n",
      "Test time         0.16    0.08    0.07    0.12    0.08    0.10    0.03    \n",
      "Среднее значение RMSE = 0.8962 \n",
      "Среднее значение MAE = 0.6894\n"
     ]
    }
   ],
   "source": [
    "from surprise import SVD, Dataset, Reader\n",
    "from surprise.model_selection import cross_validate\n",
    "\n",
    "reader = Reader(rating_scale=(0, 5))\n",
    "data = Dataset.load_from_df(ratings[[\"userId\", \"movieId\", \"rating\"]], reader=reader)\n",
    "# Run 5-fold cross-validation and print results.\n",
    "res = cross_validate(SVD(), data, measures=['RMSE', 'MAE'], cv=5, verbose=True)\n",
    "\n",
    "print(f'Среднее значение RMSE = {res[\"test_rmse\"].mean().round(4)} \\n'\n",
    "      f'Среднее значение MAE = {res[\"test_mae\"].mean().round(4)}')\n"
   ]
  }
 ],
 "metadata": {
  "colab": {
   "provenance": []
  },
  "kernelspec": {
   "display_name": "Python 3 (ipykernel)",
   "language": "python",
   "name": "python3"
  },
  "language_info": {
   "codemirror_mode": {
    "name": "ipython",
    "version": 3
   },
   "file_extension": ".py",
   "mimetype": "text/x-python",
   "name": "python",
   "nbconvert_exporter": "python",
   "pygments_lexer": "ipython3",
   "version": "3.11.5"
  }
 },
 "nbformat": 4,
 "nbformat_minor": 0
}
